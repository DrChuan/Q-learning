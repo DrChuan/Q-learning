{
 "cells": [
  {
   "cell_type": "markdown",
   "metadata": {},
   "source": [
    "# Reinforcement Learning\n",
    "*Complete and hand in this completed worksheet (including its outputs and any supporting code outside of the worksheet) with your assignment submission. Please check the pdf file for more details.*\n",
    "\n",
    "In this exercise you will:\n",
    "\n",
    "- implement Q-learning on a few different control tasks from the OpenAI Gym benchmark suite\n",
    "- implement approximators for (potentially) infinite and continous MDP, including linear approximator and neural networks\n",
    "- explore some popular tricks in RL, including exploration/exploitability trade-off, experience replay.\n",
    "\n",
    "Please note that **YOU CANNOT USE ANY MACHINE LEARNING PACKAGE SUCH AS SKLEARN** for any homework, unless you are asked to."
   ]
  },
  {
   "cell_type": "code",
   "execution_count": 1,
   "metadata": {},
   "outputs": [],
   "source": [
    "# some basic imports\n",
    "import os\n",
    "os.environ['KMP_DUPLICATE_LIB_OK']= 'True'\n",
    "import scipy\n",
    "import pandas as pd\n",
    "import numpy as np\n",
    "import matplotlib.pyplot as plt\n",
    "import math\n",
    "try:\n",
    "    import gym\n",
    "except:\n",
    "    import sys\n",
    "    !{sys.executable} -m pip install gym --user\n",
    "    import gym\n",
    "from IPython.display import display, clear_output\n",
    "import time\n",
    "import random\n",
    "\n",
    "%matplotlib inline\n",
    "\n",
    "%load_ext autoreload\n",
    "%autoreload 2"
   ]
  },
  {
   "cell_type": "markdown",
   "metadata": {},
   "source": [
    "## Let's first get to know the gym benchmark\n",
    "\n",
    "The [Gym](http://gym.openai.com/) is a famous benchmark suite from OpenAI. It provides some handful environments to play with the agents/algorithms you design."
   ]
  },
  {
   "cell_type": "code",
   "execution_count": 2,
   "metadata": {},
   "outputs": [
    {
     "data": {
      "text/html": [
       "<style>\n",
       "table {float:left}\n",
       "</style>\n"
      ],
      "text/plain": [
       "<IPython.core.display.HTML object>"
      ]
     },
     "metadata": {},
     "output_type": "display_data"
    }
   ],
   "source": [
    "%%html\n",
    "<style>\n",
    "table {float:left}\n",
    "</style>"
   ]
  },
  {
   "cell_type": "markdown",
   "metadata": {},
   "source": [
    "Let's first play with a simple environment which is discrete and finite."
   ]
  },
  {
   "cell_type": "markdown",
   "metadata": {},
   "source": [
    "## Freeze Lake\n",
    "Winter is here. You and your friends were tossing around a frisbee at the park when you made a wild throw that left the frisbee out in the middle of the lake. The water is mostly frozen, but there are a few holes where the ice has melted. If you step into one of those holes, you'll fall into the freezing water. At this time, there's an international frisbee shortage, so it's absolutely imperative that you navigate across the lake and retrieve the disc. However, the ice is slippery, so you won't always move in the direction you intend.\n",
    "\n",
    "The surface is described using a grid like the following:\n",
    "\n",
    "| | |\n",
    "|:---|:---|\n",
    "|SFFF| (S: starting point, safe)|\n",
    "|FHFH| (F: frozen surface, safe)|\n",
    "|FFFH| (H: hole, fall to your doom)|\n",
    "|HFFG| (G: goal, where the frisbee is located)|  \n",
    "\n",
    "\n",
    "The episode ends when you reach the goal or fall in a hole. You receive a reward of 1 if you reach the goal, and zero otherwise."
   ]
  },
  {
   "cell_type": "markdown",
   "metadata": {},
   "source": [
    "Have a look at the simple version of this problem below. In the following environment, the ice is not slippery, so you can always move in the direction you intend."
   ]
  },
  {
   "cell_type": "code",
   "execution_count": 4,
   "metadata": {
    "scrolled": true
   },
   "outputs": [
    {
     "name": "stdout",
     "output_type": "stream",
     "text": [
      "  (Right)\n",
      "SFFF\n",
      "F\u001b[41mH\u001b[0mFH\n",
      "FFFH\n",
      "HFFG\n"
     ]
    },
    {
     "data": {
      "text/plain": [
       "None"
      ]
     },
     "metadata": {},
     "output_type": "display_data"
    }
   ],
   "source": [
    "env = gym.make('FrozenLake-v0', is_slippery=False)\n",
    "env.reset()\n",
    "display(env.render())\n",
    "max_steps = 100\n",
    "for step in range(max_steps):\n",
    "    # take a random action\n",
    "    action = env.action_space.sample()\n",
    "    clear_output(wait=True)\n",
    "    # take the action and observe the outcome state and reward\n",
    "    new_state, reward, done, info = env.step(action)\n",
    "    display(env.render())\n",
    "    time.sleep(1)\n",
    "    state = new_state\n",
    "    if done:\n",
    "        break\n",
    "env.close()"
   ]
  },
  {
   "cell_type": "markdown",
   "metadata": {},
   "source": [
    "We can evaluate the expected reward for such a random policy."
   ]
  },
  {
   "cell_type": "code",
   "execution_count": 4,
   "metadata": {
    "scrolled": true
   },
   "outputs": [
    {
     "name": "stdout",
     "output_type": "stream",
     "text": [
      "In episode 139, we takes 7 steps to succeed!\n",
      "In episode 249, we takes 11 steps to succeed!\n",
      "In episode 312, we takes 9 steps to succeed!\n",
      "In episode 329, we takes 17 steps to succeed!\n",
      "In episode 330, we takes 8 steps to succeed!\n",
      "In episode 334, we takes 8 steps to succeed!\n",
      "In episode 347, we takes 8 steps to succeed!\n",
      "In episode 357, we takes 8 steps to succeed!\n",
      "In episode 563, we takes 11 steps to succeed!\n",
      "In episode 667, we takes 8 steps to succeed!\n",
      "In episode 712, we takes 11 steps to succeed!\n",
      "In episode 921, we takes 15 steps to succeed!\n",
      "In episode 940, we takes 11 steps to succeed!\n",
      "In episode 947, we takes 13 steps to succeed!\n",
      "In episode 965, we takes 23 steps to succeed!\n",
      "In episode 975, we takes 9 steps to succeed!\n",
      "The expected reward of each episode is 0.016, and the average steps to succeed is 11.0625\n"
     ]
    }
   ],
   "source": [
    "env = gym.make('FrozenLake-v0',is_slippery=False)\n",
    "total_episode = 1000\n",
    "total_reward = 0\n",
    "total_steps = 0\n",
    "max_steps = 100\n",
    "\n",
    "for episode in range(total_episode):\n",
    "    env.reset()\n",
    "    for step in range(max_steps):\n",
    "        # take a random action\n",
    "        action = env.action_space.sample()\n",
    "        new_state, reward, done, info = env.step(action)\n",
    "        state = new_state\n",
    "        if done:\n",
    "            if reward == 1.0:\n",
    "                print('In episode {}, we takes {} steps to succeed!'.format(episode, step + 1))\n",
    "                total_reward += reward\n",
    "                total_steps += step + 1\n",
    "            break\n",
    "env.close()\n",
    "print('The expected reward of each episode is {}, and the average steps to succeed is {}'\n",
    "      .format(total_reward / total_episode, total_steps / total_reward\n",
    "             ))"
   ]
  },
  {
   "cell_type": "markdown",
   "metadata": {},
   "source": [
    "As you can see, even for this simple version, the random policy obviously works terribly.\n",
    "\n",
    "Now let's try to crack this environment with reinforcement learning!\n",
    "\n",
    "Let's implement Q-learning algorithm with Monte Carlo methods!"
   ]
  },
  {
   "cell_type": "markdown",
   "metadata": {},
   "source": [
    "First let's breifly review the bellman equation for Q-learning algorithm.\n",
    "The derivation is actually simple.\n",
    "\n",
    "Considering a specific action $a$ at each state, we have:\n",
    "\n",
    "$Q(s_t, a_t)=R_{t+1}+\\gamma Q(s_{t+1}, a_{t+1})$\n",
    "\n",
    "Also, in state $s_{t+1}$, we would like to choose the action with the max expected reward, that is:\n",
    "\n",
    "$a_{t+1}=argmax_a Q(s_{t+1}, a)$\n",
    "\n",
    "As a result:\n",
    "\n",
    "$Q(s_{t+1}, a_{t+1}) = max_aQ(s_{t+1}, a)$\n",
    "\n",
    "Thus, we get the updated value:\n",
    "\n",
    "$Q(s_t, a_t)=R_{t+1}+\\gamma max_aQ(s_{t+1}, a)$\n",
    "\n",
    "Recall that in Monte Carlo method, we only update the q-value with a small $\\alpha$, i.e.:\n",
    "\n",
    "$Q(s_t, a_t)=Q(s_t, a_t)+\\alpha\\delta_Q=Q(s_t, a_t)+\\alpha(R_{t+1}+\\gamma max_a(Q(s_{t+1}, a)) - Q(s_t, a_t))$\n",
    "\n",
    "which is exactly the updated equation we will use for Q-learning.\n",
    "\n",
    "Please first complete the *bellman_equation_update* function in *qTable.py* bellow to this formula."
   ]
  },
  {
   "cell_type": "markdown",
   "metadata": {},
   "source": [
    "Now let's implement Q-learning for this problem. This is basically updating the *qtable* with the *bellman_equation_update*.\n",
    "\n",
    "### TODO: Please implement the QTable class in *qTable.py*."
   ]
  },
  {
   "cell_type": "code",
   "execution_count": 4,
   "metadata": {
    "scrolled": true
   },
   "outputs": [
    {
     "name": "stdout",
     "output_type": "stream",
     "text": [
      "Average reward is 0.0, average step is 100.0\n",
      "[[0. 0. 0. 0.]\n",
      " [0. 0. 0. 0.]\n",
      " [0. 0. 0. 0.]\n",
      " [0. 0. 0. 0.]\n",
      " [0. 0. 0. 0.]\n",
      " [0. 0. 0. 0.]\n",
      " [0. 0. 0. 0.]\n",
      " [0. 0. 0. 0.]\n",
      " [0. 0. 0. 0.]\n",
      " [0. 0. 0. 0.]\n",
      " [0. 0. 0. 0.]\n",
      " [0. 0. 0. 0.]\n",
      " [0. 0. 0. 0.]\n",
      " [0. 0. 0. 0.]\n",
      " [0. 0. 0. 0.]\n",
      " [0. 0. 0. 0.]]\n"
     ]
    }
   ],
   "source": [
    "from qTable import QTable\n",
    "\n",
    "env = gym.make('FrozenLake-v0', is_slippery=False)\n",
    "action_size = env.action_space.n\n",
    "state_size = env.observation_space.n\n",
    "total_episode = 100\n",
    "gamma = 0.95 # discounting rate\n",
    "alpha = 0.8 # learning rate for Q-learning\n",
    "max_steps = 100\n",
    "\n",
    "qTable = QTable(state_size, action_size, alpha, gamma)\n",
    "qTable.train(env, total_episode, max_steps)\n",
    "print(qTable.qtable)\n",
    "env.close()"
   ]
  },
  {
   "cell_type": "markdown",
   "metadata": {},
   "source": [
    "However, there is no episode that successfully reaches the goal position! Why? Try to think about it yourself before looking at the answers in the next cell."
   ]
  },
  {
   "cell_type": "markdown",
   "metadata": {},
   "source": [
    "There are two reasons. The first (and not so important) reason is that qTable.qtable is initialized to be all zeros. As a result, the agent would always take one action and cannot update its qtable as it can never reach the goal grid. To deal with the problem, you can initialize the qTable.qtable with random numbers. If you are lucky enough, you may get some successful episodes. But try to rerun the cell for multiple times, you will find that the agent still cannot reach the goal grid for most episode.\n",
    "\n",
    "The second (and important) reason is that at the beginning of the training process, the *qtable* is extremely noisy. If we rely on it to make decision for each step, then it is very likely that we cannot reach the goal position. Moreover, as we cannot get the reward, the *bellman_equation* cannot effectively update the *qtable*, and we may end up with no succesful episode.\n",
    "\n",
    "This is exactly the reason we employ $\\epsilon$-greedy strategy for the training process. Recall that $\\epsilon$-greedy strategy means that the agent, in every state, takes random actions with a $\\epsilon$ probability while takes the optimal action with a $1-\\epsilon$ probability. Actually, this is often called **exploration** in reinforcement learning. At the beginning of the training process, the agent should explore the environment (maybe aggressively) to discover actions that lead to high rewards: this is a key component of reinforcement learning. In this case, the $\\epsilon$ should be large. After some training iterations, the agent should be more clever to take good actions, and thus we can take a smaller $\\epsilon$ to decrease the exploration. This is often called **exploitation** in reinforcement learning, as we try to exploit the existing policy/qtable. The exploration and exploitation trade-off is often a key trade-off in reinforcement learning. Briefly speaking, in the beginning of training, the agent should focus more on the exploration to train a good policy; as training goes by, the agent should pay more and more attention on exploitability. In practice, we often use a exponential decay strategy to decay the exploration probability.\n",
    "\n",
    "### TODO: Add the epsilon-greedy strategy in the *QTable* class."
   ]
  },
  {
   "cell_type": "code",
   "execution_count": 6,
   "metadata": {
    "scrolled": false,
    "tags": [
     "outputPrepend"
    ]
   },
   "outputs": [
    {
     "name": "stdout",
     "output_type": "stream",
     "text": [
      "Average reward is 0.511, average step is 6.845\n",
      "[[0.73509189 0.77378094 0.77378094 0.73509189]\n",
      " [0.73509189 0.         0.81450625 0.77378094]\n",
      " [0.77378094 0.857375   0.77378094 0.81450625]\n",
      " [0.81450625 0.         0.73568322 0.77345603]\n",
      " [0.77378094 0.81450625 0.         0.73509189]\n",
      " [0.         0.         0.         0.        ]\n",
      " [0.         0.9025     0.         0.81450625]\n",
      " [0.         0.         0.         0.        ]\n",
      " [0.81450625 0.         0.857375   0.77378094]\n",
      " [0.81450625 0.9025     0.9025     0.        ]\n",
      " [0.857375   0.95       0.         0.857375  ]\n",
      " [0.         0.         0.         0.        ]\n",
      " [0.         0.         0.         0.        ]\n",
      " [0.         0.9025     0.95       0.857375  ]\n",
      " [0.9025     0.95       1.         0.9025    ]\n",
      " [0.         0.         0.         0.        ]]\n"
     ]
    }
   ],
   "source": [
    "from qTable import QTable\n",
    "\n",
    "env = gym.make('FrozenLake-v0',is_slippery=False)\n",
    "\n",
    "total_episode = 2000\n",
    "\n",
    "gamma = 0.95                  # discounting rate\n",
    "alpha = 0.8                   # learning rate for Q-learning\n",
    "max_steps = 100\n",
    "\n",
    "# exploration parameters\n",
    "epsilon = 1                 # the initial exploration probability\n",
    "min_epsilon = 0.5             # the minimum exploration probability \n",
    "epsilon_decay = 0.5           # the exponential decay rate for exploration prob\n",
    "\n",
    "# Your code here: tune the epsilon, min_epsilon, epsilon_decay yourself to make the testing average reward of your\n",
    "# agent be higher than 0.8.\n",
    "# If may be helpful for you to print out the reward and steps for each episode\n",
    "# to understand whether you require more exploration or exploitation.\n",
    "# Basically, the higher the epsilon_decay, the more exploration you have in the beginning\n",
    "# of training.\n",
    "# It is very imporant for you to practice itself to get a sense of the exploration\n",
    "# and exploitation trade-off.\n",
    "# begin answer\n",
    "gamma = 0.95                  # discounting rate\n",
    "alpha = 0.8                   # learning rate for Q-learning\n",
    "max_steps = 100\n",
    "\n",
    "# exploration parameters\n",
    "epsilon = 1.0                 # the initial exploration probability\n",
    "min_epsilon = 0.1             # the minimum exploration probability \n",
    "epsilon_decay = 0.999           # the exponential decay rate for exploration prob\n",
    "# end answer\n",
    "\n",
    "qTable = QTable(state_size, action_size, alpha, gamma,\n",
    "               init_epsilon=epsilon,\n",
    "               min_epsilon=min_epsilon,\n",
    "               epsilon_decay=epsilon_decay)\n",
    "qTable.train(env, total_episode, max_steps)\n",
    "print(qTable.qtable)"
   ]
  },
  {
   "cell_type": "markdown",
   "metadata": {},
   "source": [
    "After training, we can now use the *qtable* for our MDP."
   ]
  },
  {
   "cell_type": "code",
   "execution_count": 7,
   "metadata": {
    "tags": [
     "outputPrepend"
    ]
   },
   "outputs": [
    {
     "name": "stdout",
     "output_type": "stream",
     "text": [
      "Average reward is 1.0, average step is 6.0\n"
     ]
    }
   ],
   "source": [
    "env = gym.make('FrozenLake-v0',is_slippery=False)\n",
    "\n",
    "total_episode = 1000\n",
    "\n",
    "qTable.eval(env, total_episode)"
   ]
  },
  {
   "cell_type": "markdown",
   "metadata": {},
   "source": [
    "It's also interesting to have a look at how the process works."
   ]
  },
  {
   "cell_type": "code",
   "execution_count": 11,
   "metadata": {},
   "outputs": [
    {
     "name": "stdout",
     "output_type": "stream",
     "text": [
      "  (Right)\n",
      "SFFF\n",
      "FHFH\n",
      "FFFH\n",
      "HFF\u001b[41mG\u001b[0m\n"
     ]
    },
    {
     "data": {
      "text/plain": [
       "None"
      ]
     },
     "metadata": {},
     "output_type": "display_data"
    }
   ],
   "source": [
    "env = gym.make('FrozenLake-v0',is_slippery=False)\n",
    "state = env.reset()\n",
    "display(env.render())\n",
    "max_steps = 100\n",
    "# the table has been trained well; thus we don't need exploration\n",
    "qTable.set_epsilon(0)\n",
    "for step in range(max_steps):\n",
    "    # take a random action\n",
    "    action = qTable.take_action(state)\n",
    "    clear_output(wait=True)\n",
    "    # take the action and observe the outcome state and reward\n",
    "    new_state, reward, done, info = env.step(action)\n",
    "    display(env.render())\n",
    "    time.sleep(1)\n",
    "    state = new_state\n",
    "    if done:\n",
    "        break\n",
    "env.close()"
   ]
  },
  {
   "cell_type": "markdown",
   "metadata": {},
   "source": [
    "As you can see, in the determinstic environment, i.e. there is no slippery, the Q-learning learns the optimal strategy which can takes the minimal steps to the goal, which is desirable. Let's see how this works for slippery environment."
   ]
  },
  {
   "cell_type": "code",
   "execution_count": 16,
   "metadata": {
    "tags": [
     "outputPrepend"
    ]
   },
   "outputs": [
    {
     "name": "stdout",
     "output_type": "stream",
     "text": [
      "Average reward is 0.55805, average step is 38.71455\n",
      "[[1.56671126e-01 1.20557561e-02 1.04427527e-02 1.45469049e-02]\n",
      " [3.24620575e-03 4.68507116e-04 5.65765864e-04 2.42748364e-01]\n",
      " [1.84760697e-03 2.98668394e-02 1.44049669e-03 4.54602717e-03]\n",
      " [8.76633024e-04 1.44702437e-04 8.83475158e-06 5.56506233e-02]\n",
      " [3.49556400e-01 1.20780490e-02 2.73365082e-04 5.07911179e-03]\n",
      " [0.00000000e+00 0.00000000e+00 0.00000000e+00 0.00000000e+00]\n",
      " [1.11564899e-05 9.14351487e-06 4.84931984e-02 1.34606486e-05]\n",
      " [0.00000000e+00 0.00000000e+00 0.00000000e+00 0.00000000e+00]\n",
      " [9.42479473e-03 8.78045653e-03 5.51807166e-03 5.98104488e-01]\n",
      " [5.30544157e-03 8.19330704e-01 9.73994791e-03 7.84815911e-02]\n",
      " [6.78276366e-01 4.39156906e-05 1.51218610e-06 4.56089257e-04]\n",
      " [0.00000000e+00 0.00000000e+00 0.00000000e+00 0.00000000e+00]\n",
      " [0.00000000e+00 0.00000000e+00 0.00000000e+00 0.00000000e+00]\n",
      " [6.09455202e-02 1.78156034e-03 9.32583854e-01 3.57713135e-02]\n",
      " [1.54914399e-01 9.99962898e-01 3.21713846e-01 8.02264576e-02]\n",
      " [0.00000000e+00 0.00000000e+00 0.00000000e+00 0.00000000e+00]]\n"
     ]
    }
   ],
   "source": [
    "env = gym.make('FrozenLake-v0')\n",
    "action_size = env.action_space.n\n",
    "state_size = env.observation_space.n\n",
    "total_episode = 20000\n",
    "\n",
    "gamma = 0.95 # discounting rate\n",
    "alpha = 0.8 # learning rate for Q-learning\n",
    "max_steps = 100\n",
    "\n",
    "# exploration parameters\n",
    "# Your code here: tune the epsilon, min_epsilon, epsilon_decay yourself to make the testing average reward of your\n",
    "# agent be higher than 0.7.\n",
    "# If may be helpful for you to print out the reward and steps for each episode\n",
    "# to understand whether you require more exploration or exploitation.\n",
    "# Basically, the higher the epsilon_decay, the more exploration you have in the beginning\n",
    "# of training.\n",
    "# It is very imporant for you to practice itself to get a sense of the exploration\n",
    "# and exploitation trade-off.\n",
    "\n",
    "# begin answer\n",
    "epsilon = 1.0                 # the initial exploration probability\n",
    "min_epsilon = 0.001             # the minimum exploration probability \n",
    "epsilon_decay = 0.999           # the exponential decay rate for exploration prob\n",
    "# end answer\n",
    "\n",
    "qTable = QTable(state_size, action_size, alpha, gamma,\n",
    "               init_epsilon=epsilon,\n",
    "               min_epsilon=min_epsilon,\n",
    "               epsilon_decay=epsilon_decay)\n",
    "qTable.train(env, total_episode, max_steps)\n",
    "print(qTable.qtable)"
   ]
  },
  {
   "cell_type": "code",
   "execution_count": 17,
   "metadata": {
    "tags": [
     "outputPrepend"
    ]
   },
   "outputs": [
    {
     "name": "stdout",
     "output_type": "stream",
     "text": [
      "Average reward is 0.731, average step is 41.682\n"
     ]
    }
   ],
   "source": [
    "total_episode = 1000\n",
    "qTable.eval(env, total_episode)"
   ]
  },
  {
   "cell_type": "markdown",
   "metadata": {},
   "source": [
    "Obviously, the expected reward for this non-deterministic environment is lower than the reward for the previous one. However, Q-learning still works pretty good for this setting. Note that we may never get a perfect expected reward for this problem due to the random slippery. Also have a look at the demo below."
   ]
  },
  {
   "cell_type": "code",
   "execution_count": 19,
   "metadata": {},
   "outputs": [
    {
     "name": "stdout",
     "output_type": "stream",
     "text": [
      "  (Down)\n",
      "SFFF\n",
      "FHFH\n",
      "FFFH\n",
      "HFF\u001b[41mG\u001b[0m\n"
     ]
    },
    {
     "data": {
      "text/plain": [
       "None"
      ]
     },
     "metadata": {},
     "output_type": "display_data"
    }
   ],
   "source": [
    "env = gym.make('FrozenLake-v0')\n",
    "state = env.reset()\n",
    "display(env.render())\n",
    "max_steps = 100\n",
    "qTable.set_epsilon(0.0)\n",
    "for step in range(max_steps):\n",
    "    # take a random action\n",
    "    action = qTable.take_action(state)\n",
    "    clear_output(wait=True)\n",
    "    # take the action and observe the outcome state and reward\n",
    "    new_state, reward, done, info = env.step(action)\n",
    "    display(env.render())\n",
    "    time.sleep(1)\n",
    "    state = new_state\n",
    "    if done:\n",
    "        break\n",
    "env.close()"
   ]
  },
  {
   "cell_type": "markdown",
   "metadata": {},
   "source": [
    "Now let's crack a little bit harder game. This environment is discrete but infinite."
   ]
  },
  {
   "cell_type": "markdown",
   "metadata": {},
   "source": [
    "## N-Chain\n",
    "\n",
    "This game presents moves along a linear chain of states, with two actions:\n",
    "* 0. forward, which moves along the chain but returns no reward\n",
    "* 1. backward, which returns to the beginning and has a small reward\n",
    "\n",
    "The end of the chain, however, presents a large reward, and by moving 'forward' at the end of the chain this large reward can be repeated.\n",
    "\n",
    "At each action, there is a small probability that the agent 'slips' and the opposite transition is instead taken.\n",
    "\n",
    "The observed state is the current state in the chain (0 to n-1)."
   ]
  },
  {
   "cell_type": "code",
   "execution_count": 36,
   "metadata": {},
   "outputs": [
    {
     "name": "stdout",
     "output_type": "stream",
     "text": [
      "Average reward is 129.84384384384384\n"
     ]
    }
   ],
   "source": [
    "env = gym.make('NChain-v0',\n",
    "               n=5, # the length of the chain is 5\n",
    "               slip=0.2, # the slipping probability\n",
    "               small=2, # the small reward for backward\n",
    "               large=10 # the large reward for go forward\n",
    "              )\n",
    "state = env.reset()\n",
    "total_episode = 1000\n",
    "max_steps = 100\n",
    "total_reward = 0\n",
    "for episode in range(total_episode):\n",
    "    state = env.reset()\n",
    "    for step in range(max_steps):\n",
    "        # take a random action\n",
    "        action = env.action_space.sample()\n",
    "        # take the action and observe the outcome state and reward\n",
    "        new_state, reward, done, info = env.step(action)\n",
    "        total_reward += reward\n",
    "        state = new_state\n",
    "env.close()\n",
    "print('Average reward is {}'.format(total_reward / episode))"
   ]
  },
  {
   "cell_type": "markdown",
   "metadata": {},
   "source": [
    "## Question:\n",
    "It's actually interesting to try strategy of always going forward or backward. Have a try here, and explain such phenomena in your PDF writeup file."
   ]
  },
  {
   "cell_type": "code",
   "execution_count": 37,
   "metadata": {},
   "outputs": [
    {
     "name": "stdout",
     "output_type": "stream",
     "text": [
      "Average reward is 353.42542542542543\n"
     ]
    }
   ],
   "source": [
    "env = gym.make('NChain-v0',\n",
    "               n=5, # the length of the chain is 5\n",
    "               slip=0.2, # the slipping probability\n",
    "               small=2, # the small reward for backward\n",
    "               large=10 # the large reward for go forward\n",
    "              )\n",
    "state = env.reset()\n",
    "total_episode = 1000\n",
    "max_steps = 100\n",
    "total_reward = 0\n",
    "for episode in range(total_episode):\n",
    "    state = env.reset()\n",
    "    for step in range(max_steps):\n",
    "        # take a random action\n",
    "        action = 0\n",
    "        # take the action and observe the outcome state and reward\n",
    "        new_state, reward, done, info = env.step(action)\n",
    "        total_reward += reward\n",
    "        state = new_state\n",
    "env.close()\n",
    "print('Average reward is {}'.format(total_reward / episode))"
   ]
  },
  {
   "cell_type": "code",
   "execution_count": 38,
   "metadata": {},
   "outputs": [
    {
     "name": "stdout",
     "output_type": "stream",
     "text": [
      "Average reward is 160.6986986986987\n"
     ]
    }
   ],
   "source": [
    "env = gym.make('NChain-v0',\n",
    "               n=5, # the length of the chain is 5\n",
    "               slip=0.2, # the slipping probability\n",
    "               small=2, # the small reward for backward\n",
    "               large=10 # the large reward for go forward\n",
    "              )\n",
    "state = env.reset()\n",
    "total_episode = 1000\n",
    "max_steps = 100\n",
    "total_reward = 0\n",
    "for episode in range(total_episode):\n",
    "    state = env.reset()\n",
    "    for step in range(max_steps):\n",
    "        # take a random action\n",
    "        action = 1\n",
    "        # take the action and observe the outcome state and reward\n",
    "        new_state, reward, done, info = env.step(action)\n",
    "        total_reward += reward\n",
    "        state = new_state\n",
    "env.close()\n",
    "print('Average reward is {}'.format(total_reward / episode))"
   ]
  },
  {
   "cell_type": "markdown",
   "metadata": {},
   "source": [
    "Now let's apply Q-learning for this environment and see how it works."
   ]
  },
  {
   "cell_type": "code",
   "execution_count": 48,
   "metadata": {},
   "outputs": [
    {
     "name": "stdout",
     "output_type": "stream",
     "text": [
      "Average reward is 189.2438, average step is 100.0\n",
      "[[24.78168308 19.63489974]\n",
      " [23.54165544 25.63086518]\n",
      " [23.07925719 21.27779236]\n",
      " [23.68539666 25.5389668 ]\n",
      " [24.60204089 22.11865323]]\n"
     ]
    }
   ],
   "source": [
    "env = gym.make('NChain-v0',\n",
    "               n=5, # the length of the chain is 5\n",
    "               slip=0.2, # the slipping probability\n",
    "               small=2, # the small reward for backward\n",
    "               large=10 # the large reward for go forward\n",
    "              )\n",
    "action_size = env.action_space.n\n",
    "state_size = env.observation_space.n\n",
    "\n",
    "gamma = 0.95 # discounting rate\n",
    "alpha = 0.8 # learning rate for Q-learning\n",
    "\n",
    "# exploration parameters\n",
    "epsilon = 1.0                 # the initial exploration probability\n",
    "min_epsilon = 0.001            # the minimum exploration probability \n",
    "epsilon_decay = 0.999      # the exponential decay rate for exploration prob\n",
    "\n",
    "qTable = QTable(state_size, action_size, alpha, gamma,\n",
    "               init_epsilon=epsilon,\n",
    "               min_epsilon=min_epsilon,\n",
    "               epsilon_decay=epsilon_decay)\n",
    "total_episode = 10000\n",
    "max_steps = 100\n",
    "qTable.train(env, total_episode, max_steps)\n",
    "print(qTable.qtable)"
   ]
  },
  {
   "cell_type": "markdown",
   "metadata": {},
   "source": [
    "0 denotes going forward, and 1 denotes going backward. Please pay attention to how the reward for going forward and backward change with the state. Also, try to tune the gamma parameter to see how this may influence the expected reward. "
   ]
  },
  {
   "cell_type": "markdown",
   "metadata": {},
   "source": [
    "Now comes the continous and infinite environment!"
   ]
  },
  {
   "cell_type": "markdown",
   "metadata": {},
   "source": [
    "## (Optional) CartPole\n",
    "\n",
    "A pole is attached by an un-actuated joint to a cart, which moves along a frictionless track. The system is controlled by applying a force of +1 or -1 to the cart. The pendulum starts upright, and the goal is to prevent it from falling over. A reward of +1 is provided for every timestep that the pole remains upright. The episode ends when the pole is more than 15 degrees from vertical, or the cart moves more than 2.4 units from the center.\n",
    "\n",
    "Have a look at this demo."
   ]
  },
  {
   "cell_type": "code",
   "execution_count": 23,
   "metadata": {},
   "outputs": [
    {
     "data": {
      "image/png": "[encoded data removed]",
      "text/plain": [
       "<Figure size 432x288 with 1 Axes>"
      ]
     },
     "metadata": {
      "needs_background": "light"
     },
     "output_type": "display_data"
    }
   ],
   "source": [
    "env = gym.make('CartPole-v1')\n",
    "env.reset()\n",
    "\n",
    "for i in range(100):\n",
    "    plt.imshow(env.render(mode='rgb_array'))\n",
    "    display(plt.gcf())    \n",
    "    clear_output(wait=True)\n",
    "    new_state, reward, done, info = env.step(env.action_space.sample()) # take a random action\n",
    "    if done:\n",
    "        break\n",
    "\n",
    "env.close()"
   ]
  },
  {
   "cell_type": "markdown",
   "metadata": {},
   "source": [
    "Also, have a sense of how a random approach works for this problem."
   ]
  },
  {
   "cell_type": "code",
   "execution_count": 2,
   "metadata": {},
   "outputs": [
    {
     "name": "stdout",
     "output_type": "stream",
     "text": [
      "The average reward is 21.897\n"
     ]
    }
   ],
   "source": [
    "env = gym.make('CartPole-v1')\n",
    "env.reset()\n",
    "total_reward = 0\n",
    "total_episode = 1000\n",
    "for episode in range(total_episode):\n",
    "    env.reset()\n",
    "    while True:\n",
    "        new_state, reward, done, info = env.step(env.action_space.sample()) # take a random action\n",
    "        env.render()\n",
    "        total_reward += reward\n",
    "        if done:\n",
    "            break\n",
    "\n",
    "env.close()\n",
    "print(\"The average reward is {}\".format(total_reward / total_episode))"
   ]
  },
  {
   "cell_type": "markdown",
   "metadata": {},
   "source": [
    "Note that this is continous task. For this game there are a huge number of states available. The state has four values: the position and velocity of the cart, and the position and velocity of the pole. These are all real-valued numbers, so ignoring floating point precisions, you practically have infinite states. Though we can somehow discretize the state and apply the *qtable* approach, we'll replace it with a approximator that will approximate the *qtable* lookup function. Thus we can no longer apply the *qtable* for this task. \n",
    "\n",
    "As a result, our Q value, $Q(s, a)$ is calculated by passing in a state to the approximator. The output will be Q values for each available action.\n",
    "\n",
    "We can define our targets for training as $\\hat{Q}(s,a) = r + \\gamma \\max{Q(s', a')}$. Then we update the weights by minimizing $(\\hat{Q}(s,a) - Q(s,a))^2$, which is exactly a regression problem.\n",
    "\n",
    "For this Cart-Pole game, we have four inputs, one for each value in the state, and two outputs, one for each action. To get $\\hat{Q}$, we'll first choose an action, then simulate the game using that action. This will get us the next state, $s'$, and the reward. With that, we can calculate $\\hat{Q}$ then pass it back into the $Q$ approximator to run the optimizer and update the weights.\n",
    "\n",
    "Note that since this is a regression task, we can use any regressor we have learned before. At first, we will try to use linear regression for this task. Feel free to use TensorFlow or Pytorch or even the code you have written in previous homework. \n",
    "\n",
    "FYI: GPU should provide more efficient training for these models, though a modern CPU should be enough for this homework. Our laptop (i5) can finish all the training tasks in dozens of minutes.\n",
    "\n",
    "### TODO: implement the Approximator class in *approximator.py* with linear regression"
   ]
  },
  {
   "cell_type": "markdown",
   "metadata": {},
   "source": [
    "Some useful readings:\n",
    "* https://pytorch.org/tutorials/intermediate/reinforcement_q_learning.html\n",
    "* https://www.tensorflow.org/tutorials/reinforcement_learning/actor_critic"
   ]
  },
  {
   "cell_type": "code",
   "execution_count": 19,
   "metadata": {
    "scrolled": false
   },
   "outputs": [
    {
     "data": {
      "image/png": "[encoded data removed]",
      "text/plain": [
       "<Figure size 432x288 with 1 Axes>"
      ]
     },
     "metadata": {
      "needs_background": "light"
     },
     "output_type": "display_data"
    }
   ],
   "source": [
    "# If you like tensorflow\n",
    "# from approximator_tf import Approximator\n",
    "# If you like pytorch (Recommend)\n",
    "from approximator_torch_linear import Approximator\n",
    "\n",
    "env = gym.make('CartPole-v1')\n",
    "\n",
    "gamma = 0.95 # discounting rate\n",
    "\n",
    "action_size = env.action_space.n\n",
    "state_size = env.observation_space.shape[0]\n",
    "# tune the learning_rate and total_episode yourself\n",
    "# remember how learning_rate can influence the training for NNs?\n",
    "learning_rate = 0.1\n",
    "total_episode = 1000\n",
    "# begin answer\n",
    "# end answer\n",
    "model = Approximator(state_size, action_size,\n",
    "                     learning_rate=learning_rate, memory_pool_size=10000, batch_size=20)\n",
    "\n",
    "model.train(env, total_episode)\n",
    "# plot to see the training rewards of each episode\n",
    "plt.plot(np.arange(len(model.reward_list)), np.array(model.reward_list))\n",
    "plt.show()"
   ]
  },
  {
   "cell_type": "markdown",
   "metadata": {},
   "source": [
    "## (Optional) Deep Q-Learning"
   ]
  },
  {
   "cell_type": "markdown",
   "metadata": {},
   "source": [
    "Observe how linear approximator struggles to learn a good q-function for this task. The reason might be that the Q function for this problem should be a highly non-linear function; thus a linear approximator cannot approximate it well. We should use a more complex approximator. **In many cases, when you want to use a complex approximator, you should consider about neural networks.**\n",
    "\n",
    "Now we will try to use neural networks as approximator. Feel free to use TensorFlow or Pytorch or even the code you have written in **Assignment3** to implement. Update your Approximator class to use a neural network as the approximator, and rerun the cell above.\n",
    "\n",
    "Use a simple network should be enough for this a task. An example can be:\n",
    "\n",
    "State->FC->Relu->FC->Relu->FC->QValue\n",
    "\n",
    "You can decide the number of neurons yourself, but 64 should be enough.\n",
    "\n",
    "### TODO: implement a neural network in your Approximator class"
   ]
  },
  {
   "cell_type": "code",
   "execution_count": 20,
   "metadata": {},
   "outputs": [
    {
     "data": {
      "image/png": "[encoded data removed]",
      "text/plain": [
       "<Figure size 432x288 with 1 Axes>"
      ]
     },
     "metadata": {
      "needs_background": "light"
     },
     "output_type": "display_data"
    }
   ],
   "source": [
    "# If you like tensorflow\n",
    "# from approximator_tf import Approximator\n",
    "# If you like pytorch (Recommend)\n",
    "from approximator_torch_dnn import Approximator\n",
    "\n",
    "env = gym.make('CartPole-v1')\n",
    "\n",
    "gamma = 0.95 # discounting rate\n",
    "\n",
    "action_size = env.action_space.n\n",
    "state_size = env.observation_space.shape[0]\n",
    "# tune the learning_rate and total_episode yourself\n",
    "# remember how learning_rate can influence the training for NNs?\n",
    "learning_rate = 0.1\n",
    "total_episode = 1000\n",
    "# begin answer\n",
    "# end answer\n",
    "model = Approximator(state_size, action_size,\n",
    "                     learning_rate=learning_rate, memory_pool_size=10000, batch_size=20)\n",
    "\n",
    "model.train(env, total_episode)\n",
    "# plot to see the training rewards of each episode\n",
    "plt.plot(np.arange(len(model.reward_list)), np.array(model.reward_list))\n",
    "plt.show()"
   ]
  },
  {
   "cell_type": "markdown",
   "metadata": {},
   "source": [
    "## Experience Replay\n",
    "\n",
    "Disappointedly, you may find that the approximator still struggle to converge and get good results. There are several potential reasons for this phenomenon. One reason is that the *new_state* is generated from current *state*, which violates the i.i.d assumption in supervised learning. And this may easily lead to bad convergence performance. One popular strategy for improving the convergence rate and making data more i.i.d is **experience replay**.\n",
    "\n",
    "Basically, when using **experience replay**, we would like to keep a memory pool filled with the experience the agent had before. More specifically, we would save the *(state, action, reward, new_state, done)* tuple in a memory pool, which denotes the previous experience. For each step of training, we sample a batch of experiences from the memory pool, and train the approximator with this batch. This can be seen as replaying a batch of previous experiences. Also, we would generate a new experience according to the current state and the approximator, and add this new experience to the memory pool.\n",
    "\n",
    "Note that in this case, the experience an agent has can be used to train the approximator multiple times. In some real-world applications, the experience may be very expensive to gain, and thus experience replay enables a more efficient use of previous experience. Also, as approximator is trained with a batch, the SGD optimizer typically converges more fast.\n",
    "\n",
    "### TODO: implement experience replay in your Approximator class\n",
    "Now please complete the **experience_replay** function in your Approximator class, and retrain the approximator. This time, you should find that the approximator can get pretty reasonable results. Check the average reward for each episode below."
   ]
  },
  {
   "cell_type": "code",
   "execution_count": 21,
   "metadata": {
    "scrolled": false
   },
   "outputs": [
    {
     "data": {
      "image/png": "[encoded data removed]",
      "text/plain": [
       "<Figure size 432x288 with 1 Axes>"
      ]
     },
     "metadata": {
      "needs_background": "light"
     },
     "output_type": "display_data"
    }
   ],
   "source": [
    "# If you like tensorflow\n",
    "# from approximator_tf import Approximator\n",
    "# If you like pytorch (Recommend)\n",
    "from approximator_torch_dnn_expreplay import Approximator\n",
    "\n",
    "env = gym.make('CartPole-v1')\n",
    "\n",
    "gamma = 0.95 # discounting rate\n",
    "\n",
    "action_size = env.action_space.n\n",
    "state_size = env.observation_space.shape[0]\n",
    "# tune the learning_rate and total_episode yourself\n",
    "# remember how learning_rate can influence the training for NNs?\n",
    "learning_rate = 0.1\n",
    "total_episode = 1000\n",
    "# begin answer\n",
    "# end answer\n",
    "model = Approximator(state_size, action_size,\n",
    "                     learning_rate=learning_rate, memory_pool_size=10000, batch_size=20)\n",
    "\n",
    "model.train(env, total_episode)\n",
    "# plot to see the training rewards of each episode\n",
    "plt.plot(np.arange(len(model.reward_list)), np.array(model.reward_list))\n",
    "plt.show()"
   ]
  },
  {
   "cell_type": "code",
   "execution_count": 155,
   "metadata": {
    "scrolled": true
   },
   "outputs": [
    {
     "name": "stdout",
     "output_type": "stream",
     "text": [
      "Average reward per episode is 22.76\n"
     ]
    }
   ],
   "source": [
    "reward_list = model.eval(env, 100)"
   ]
  },
  {
   "cell_type": "markdown",
   "metadata": {},
   "source": [
    "Also, it may be interesting to have a look at a demo."
   ]
  },
  {
   "cell_type": "code",
   "execution_count": 156,
   "metadata": {
    "scrolled": true
   },
   "outputs": [
    {
     "data": {
      "image/png": "[encoded data removed]",
      "text/plain": [
       "<Figure size 432x288 with 1 Axes>"
      ]
     },
     "metadata": {
      "needs_background": "light"
     },
     "output_type": "display_data"
    }
   ],
   "source": [
    "env = gym.make('CartPole-v1')\n",
    "state = env.reset()\n",
    "\n",
    "while True:\n",
    "    plt.imshow(env.render(mode='rgb_array'))\n",
    "    display(plt.gcf())    \n",
    "    clear_output(wait=True)\n",
    "    action = model.take_action(state)\n",
    "    new_state, reward, done, info = env.step(action)\n",
    "    state = new_state\n",
    "    if done:\n",
    "        break\n",
    "\n",
    "env.close()"
   ]
  },
  {
   "cell_type": "markdown",
   "metadata": {},
   "source": [
    "## (Optional) Double Q-Learning\n",
    "\n",
    "As we only use the same model to both determine the greedy policy and to determine its value, sometimes the model may learn unrealistically high action values because it includes a maximization step over estimated action values, which tends to prefer over-estimated to underestimated values. Imagine that the model learns an over-estimated value for one action, then this action is very more likely to be selected. Further, as the values are estimated with the same model, the updated value for this action is still over-estimated, which makes the other actions difficult to be explored and updated. As a result, the convergence may be slowed down, and even the performance of the final model may be harmed.\n",
    "\n",
    "As can be seen, the over-estimated problem is partly caused by using the same model to determine the policy and value. Then how can we address this problem? A natural idea is to decouple these two steps by using two different models to determine the policy and value respectively. This is called **double Q-learning**. We call the model that determine the policy as Policy Model and the model that determine the value as Value Model. To avoid introduce an additional network, a very smart trick is like this: when training the models with one episode, we freeze the Value Model and update only the Policy Model. After one episode is trained, we update the Value Model with the weights of the Policy Model. Alternatively, we can update the Value Model with the weights of Policy Model periodically (say, 500 iterations). Although the Policy Model and the Value Model are not fully decoupled in this way, this approach is simple to implement and avoid further network designs. As you will see, this works well in practice.\n",
    "\n",
    "### TODO: implement double Q-learning in your Approximator class\n",
    "\n",
    "After implementing the double Q-learning, train another approximator and compare the performance with previous one."
   ]
  },
  {
   "cell_type": "code",
   "execution_count": 17,
   "metadata": {
    "scrolled": true
   },
   "outputs": [
    {
     "data": {
      "image/png": "[encoded data removed]",
      "text/plain": [
       "<Figure size 432x288 with 1 Axes>"
      ]
     },
     "metadata": {
      "needs_background": "light"
     },
     "output_type": "display_data"
    }
   ],
   "source": [
    "env = gym.make('CartPole-v1')\n",
    "from approximator_torch_dnn_expreplay_doubleQ import Approximator\n",
    "# tune the learning_rate yourself\n",
    "# remember how learning_rate can influence the training for NNs?\n",
    "learning_rate = 0.1\n",
    "action_size = env.action_space.n\n",
    "state_size = env.observation_space.shape[0]\n",
    "# begin answer\n",
    "# end answer\n",
    "gamma = 0.95 # discounting rate\n",
    "model = Approximator(state_size, action_size,\n",
    "                     gamma=gamma,\n",
    "                     learning_rate=learning_rate, \n",
    "                     memory_pool_size=10000, \n",
    "                     batch_size=128, \n",
    "                     init_epsilon=0.9, \n",
    "                     min_epsilon=0.05, \n",
    "                     epsilon_decay=0.99,\n",
    "                     double_QLearning=True)#,\n",
    "                     #double_QLearning_exchange_cnt=5)\n",
    "\n",
    "model.train(env, 1000)\n",
    "# plot to see the training rewards of each episode\n",
    "plt.plot(np.arange(len(model.reward_list)), np.array(model.reward_list))\n",
    "plt.show()"
   ]
  },
  {
   "cell_type": "markdown",
   "metadata": {},
   "source": [
    "Check the average rewards"
   ]
  },
  {
   "cell_type": "code",
   "execution_count": 18,
   "metadata": {
    "scrolled": true
   },
   "outputs": [
    {
     "name": "stdout",
     "output_type": "stream",
     "text": [
      "Average reward per episode is 300.0\n"
     ]
    }
   ],
   "source": [
    "reward_list = model.eval(env, 100)"
   ]
  },
  {
   "cell_type": "markdown",
   "metadata": {},
   "source": [
    "Have a look at the demo."
   ]
  },
  {
   "cell_type": "code",
   "execution_count": 27,
   "metadata": {},
   "outputs": [
    {
     "data": {
      "image/png": "[encoded data removed]",
      "text/plain": [
       "<Figure size 432x288 with 1 Axes>"
      ]
     },
     "metadata": {
      "needs_background": "light"
     },
     "output_type": "display_data"
    }
   ],
   "source": [
    "env = gym.make('CartPole-v1')\n",
    "state = env.reset()\n",
    "\n",
    "while True:\n",
    "    plt.imshow(env.render(mode='rgb_array'))\n",
    "    display(plt.gcf())    \n",
    "    clear_output(wait=True)\n",
    "    state = np.expand_dims(state, axis=0)\n",
    "    action = model.take_action(state)\n",
    "    new_state, reward, done, info = env.step(action)\n",
    "    state = new_state\n",
    "    if done:\n",
    "        break\n",
    "        \n",
    "env.close()"
   ]
  },
  {
   "cell_type": "markdown",
   "metadata": {},
   "source": [
    "Congratulations! You have finished the journey of reinforcement learning here. There are also some other environments available in *gym* for you to play with. Equipped with the techniques you have learned so far, just feel free to play with them if interested.\n",
    "\n",
    "Actually, you have learned many practical techniques for reinforcement learning. Theortically, you can even build some famous systems such as AlphaGo mainly based on these techniques :) In AlphaGo, Atari, and many other real-world applications, the agents need to deal with the image/video input. Thus it is naturally to use CNNs as approximators. There are also some other techniques used in these systems, such as Monte Carlo Tree Search in AlphaGo, but the big pictures are similar.\n",
    "\n",
    "To apply reinforcement learning in real-world problems, there are many other difficulties. I think the biggest challenge may be how to formulate your problems. What are the states? What are the rewards? Are they reasonable enough? How to gain experience? Unlike the environment in this notebook, in real world, these problems are often undefined. You need to formulate them yourself. Another challenge may be that the hyperparameters tuning would be quite difficult, even more difficult than CNNs/RNNs for some typical supervised/unsupervised learning problems. It requires some experience and practice :)\n",
    "\n",
    "This may be the last assignment for this course. Thank you for participating our course and completing our assignments :)"
   ]
  }
 ],
 "metadata": {
  "kernelspec": {
   "display_name": "Python 3",
   "language": "python",
   "name": "python3"
  },
  "language_info": {
   "codemirror_mode": {
    "name": "ipython",
    "version": 3
   },
   "file_extension": ".py",
   "mimetype": "text/x-python",
   "name": "python",
   "nbconvert_exporter": "python",
   "pygments_lexer": "ipython3",
   "version": "3.7.2"
  }
 },
 "nbformat": 4,
 "nbformat_minor": 2
}
